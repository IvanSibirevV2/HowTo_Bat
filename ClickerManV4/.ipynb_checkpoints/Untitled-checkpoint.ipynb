{
 "cells": [
  {
   "cell_type": "code",
   "execution_count": 241,
   "id": "2862bd57",
   "metadata": {},
   "outputs": [],
   "source": [
    "###Jupiter Config###\n",
    "from IPython.core.magic import register_line_cell_magic\n",
    "#Дозапись в файл по шаблону\n",
    "@register_line_cell_magic\n",
    "def writetemplate(line, cell):\n",
    "    _args=line.split(' ')\n",
    "    _arg1= 0;_arg2= 0;_arg3= 0;_arg4= 0;_arg5= 0;_arg6= 0;_arg7= 0;_arg8= 0;_arg9= 0;\n",
    "    if len(_args)>0 : _arg0=_args[0]; \n",
    "    if len(_args)>1 : _arg1=_args[1];\n",
    "    if len(_args)>2 : _arg2=_args[2];\n",
    "    if len(_args)>3 : _arg3=_args[3];\n",
    "    if len(_args)>4 : _arg4=_args[4];\n",
    "    if len(_args)>5 : _arg5=_args[5];\n",
    "    if len(_args)>6 : _arg6=_args[6];\n",
    "    if len(_args)>7 : _arg7=_args[7];\n",
    "    if len(_args)>8 : _arg8=_args[8];\n",
    "    if len(_args)>9 : _arg7=_args[9];\n",
    "    print('_arg0=',_arg0,'; _arg1=',_arg1,'; _arg2=',_arg2,'; _arg3=',_arg3, \\\n",
    "'; _arg4=',_arg4,'; _arg5=',_arg5,'; _arg6=',_arg6,'; _arg7=',_arg7,'; _arg8=',_arg8,'; _arg9=',_arg9);\n",
    "    with open(_arg0, 'a') as f:f.write(cell.format(**globals()))\n",
    "    print('>>>')\n",
    "    with open('Script.cms', 'r') as f: print(f.read())\n",
    "###Jupiter Config###"
   ]
  },
  {
   "cell_type": "code",
   "execution_count": 242,
   "id": "5b0d98ff",
   "metadata": {},
   "outputs": [
    {
     "name": "stdout",
     "output_type": "stream",
     "text": [
      "_arg0= Script.cms ; _arg1= 1 ; _arg2= 2 ; _arg3= 3 ; _arg4= 4 ; _arg5= 5 ; _arg6= 6 ; _arg7= 9 ; _arg8= 8 ; _arg9= 0\n",
      ">>>\n",
      "//ReWrite\n",
      "//Config\n",
      "//sleep time\n",
      "$t=75\n",
      "test: Script.cms\n",
      "test: Script.cms\n",
      "KEYDOWN(Script.cms)\n",
      "WAITMS($t)\n",
      "KEYUP(Script.cms)\n",
      "WAITMS($t)\n",
      "KEYDOWN(#A)\n",
      "WAITMS($t)\n",
      "KEYUP(#A)\n",
      "WAITMS($t)\n",
      "KEYDOWN(#A)\n",
      "WAITMS($t)\n",
      "KEYUP(#A)\n",
      "WAITMS($t)\n",
      "KEYDOWN(#A)\n",
      "WAITMS($t)\n",
      "KEYUP(#A)\n",
      "WAITMS($t)\n",
      "\n"
     ]
    }
   ],
   "source": [
    "%%writetemplate Script.cms 1 2 3 4 5 6 7 8 9 \n",
    "KEYDOWN({_KEY})\n",
    "WAITMS($t)\n",
    "KEYUP({_KEY})\n",
    "WAITMS($t)"
   ]
  },
  {
   "cell_type": "markdown",
   "id": "7dfef3bd",
   "metadata": {},
   "source": [
    "--------------"
   ]
  },
  {
   "cell_type": "code",
   "execution_count": 208,
   "id": "2548f3c6",
   "metadata": {},
   "outputs": [
    {
     "ename": "SyntaxError",
     "evalue": "invalid syntax (643241876.py, line 1)",
     "output_type": "error",
     "traceback": [
      "\u001b[1;36m  Cell \u001b[1;32mIn[208], line 1\u001b[1;36m\u001b[0m\n\u001b[1;33m    (false)?(1):(0)\u001b[0m\n\u001b[1;37m           ^\u001b[0m\n\u001b[1;31mSyntaxError\u001b[0m\u001b[1;31m:\u001b[0m invalid syntax\n"
     ]
    }
   ],
   "source": [
    "(false)?(1):(0)"
   ]
  },
  {
   "cell_type": "code",
   "execution_count": 109,
   "id": "8e994b89",
   "metadata": {},
   "outputs": [
    {
     "name": "stdout",
     "output_type": "stream",
     "text": [
      "Overwriting Script.cms\n"
     ]
    }
   ],
   "source": [
    "%%writefile Script.cms\n",
    "//ReWrite\n",
    "//Config\n",
    "//sleep time\n",
    "$t=75"
   ]
  },
  {
   "cell_type": "code",
   "execution_count": 114,
   "id": "cc0e4da6",
   "metadata": {},
   "outputs": [],
   "source": [
    "_KEY = \"#A\""
   ]
  },
  {
   "cell_type": "code",
   "execution_count": 123,
   "id": "729437cb",
   "metadata": {},
   "outputs": [],
   "source": [
    "%%writetemplate Script.cms\n",
    "KEYDOWN({_KEY})\n",
    "WAITMS($t)\n",
    "KEYUP({_KEY})\n",
    "WAITMS($t)"
   ]
  },
  {
   "cell_type": "code",
   "execution_count": 124,
   "id": "5c5a1601",
   "metadata": {
    "scrolled": true
   },
   "outputs": [
    {
     "name": "stdout",
     "output_type": "stream",
     "text": [
      "//ReWrite\n",
      "//Config\n",
      "//sleep time\n",
      "$t=75\n",
      "test: Script.cms\n",
      "test: Script.cms\n",
      "KEYDOWN(Script.cms)\n",
      "WAITMS($t)\n",
      "KEYUP(Script.cms)\n",
      "WAITMS($t)\n",
      "KEYDOWN(#A)\n",
      "WAITMS($t)\n",
      "KEYUP(#A)\n",
      "WAITMS($t)\n",
      "\n"
     ]
    }
   ],
   "source": [
    "with open('Script.cms', 'r') as f: print(f.read())"
   ]
  }
 ],
 "metadata": {
  "kernelspec": {
   "display_name": "Python 3 (ipykernel)",
   "language": "python",
   "name": "python3"
  },
  "language_info": {
   "codemirror_mode": {
    "name": "ipython",
    "version": 3
   },
   "file_extension": ".py",
   "mimetype": "text/x-python",
   "name": "python",
   "nbconvert_exporter": "python",
   "pygments_lexer": "ipython3",
   "version": "3.11.4"
  }
 },
 "nbformat": 4,
 "nbformat_minor": 5
}
