{
 "cells": [
  {
   "cell_type": "code",
   "execution_count": 2,
   "id": "eae0cfd0",
   "metadata": {},
   "outputs": [
    {
     "name": "stdout",
     "output_type": "stream",
     "text": [
      "Microsoft Windows [Version 10.0.19045.3570]\n",
      "(c) ��௮��� �������� (Microsoft Corporation). �� �ࠢ� ���饭�.\n",
      "\n",
      "C:\\Users\\SibNout2023\\WorkPlate\\GitHubOll\\HowTo_Bat>echo %cd%\n",
      "C:\\Users\\SibNout2023\\WorkPlate\\GitHubOll\\HowTo_Bat\n",
      "\n",
      "C:\\Users\\SibNout2023\\WorkPlate\\GitHubOll\\HowTo_Bat>echo Привет мир\n",
      "Привет мир\n",
      "\n",
      "C:\\Users\\SibNout2023\\WorkPlate\\GitHubOll\\HowTo_Bat>"
     ]
    }
   ],
   "source": [
    "%%cmd\n",
    "echo %cd%\n",
    "echo Привет мир\n"
   ]
  },
  {
   "cell_type": "code",
   "execution_count": 8,
   "id": "0631ad25",
   "metadata": {},
   "outputs": [
    {
     "name": "stdout",
     "output_type": "stream",
     "text": [
      "Overwriting qwe.bat\n"
     ]
    }
   ],
   "source": [
    "%%writefile qwe.bat\n",
    "echo %cd%\n",
    "echo Привет мир\n",
    "echo ��௮��� ��������\n",
    "pause"
   ]
  },
  {
   "cell_type": "code",
   "execution_count": null,
   "id": "5b500fd5",
   "metadata": {},
   "outputs": [],
   "source": []
  }
 ],
 "metadata": {
  "kernelspec": {
   "display_name": "Python 3 (ipykernel)",
   "language": "python",
   "name": "python3"
  },
  "language_info": {
   "codemirror_mode": {
    "name": "ipython",
    "version": 3
   },
   "file_extension": ".py",
   "mimetype": "text/x-python",
   "name": "python",
   "nbconvert_exporter": "python",
   "pygments_lexer": "ipython3",
   "version": "3.11.4"
  }
 },
 "nbformat": 4,
 "nbformat_minor": 5
}
