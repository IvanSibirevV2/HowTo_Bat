{
 "cells": [
  {
   "cell_type": "code",
   "execution_count": 13,
   "id": "2862bd57",
   "metadata": {},
   "outputs": [],
   "source": [
    "###Jupiter Config###\n",
    "from IPython.core.magic import register_line_cell_magic\n",
    "#Дозапись в файл по шаблону\n",
    "@register_line_cell_magic\n",
    "def writetemplate(line, cell):\n",
    "    _args=line.split(' ')\n",
    "    _arg1= 0;_arg2= 0;_arg3= 0;_arg4= 0;_arg5= 0;_arg6= 0;_arg7= 0;_arg8= 0;_arg9= 0;\n",
    "    if len(_args)>0 : _arg0=_args[0]; \n",
    "    if len(_args)>1 : _arg1=_args[1];\n",
    "    if len(_args)>2 : _arg2=_args[2];\n",
    "    if len(_args)>3 : _arg3=_args[3];\n",
    "    if len(_args)>4 : _arg4=_args[4];\n",
    "    if len(_args)>5 : _arg5=_args[5];\n",
    "    if len(_args)>6 : _arg6=_args[6];\n",
    "    if len(_args)>7 : _arg7=_args[7];\n",
    "    if len(_args)>8 : _arg8=_args[8];\n",
    "    if len(_args)>9 : _arg9=_args[9];\n",
    "    print('_arg0=',_arg0,'; _arg1=',_arg1,'; _arg2=',_arg2,'; _arg3=',_arg3,'; _arg4=',_arg4,'; _arg5=',_arg5,'; _arg6=',_arg6,'; _arg7=',_arg7,'; _arg8=',_arg8,'; _arg9=',_arg9);\n",
    "    with open('Script.cms', 'a') as f:\n",
    "        f.write(cell.format(**globals()))\n",
    "    print('>>>')\n",
    "    with open('Script.cms', 'r') as f: print(f.read())\n",
    "###Jupiter Config###"
   ]
  },
  {
   "cell_type": "code",
   "execution_count": 14,
   "id": "5b0d98ff",
   "metadata": {},
   "outputs": [
    {
     "name": "stdout",
     "output_type": "stream",
     "text": [
      "_arg0= 1 ; _arg1= 2 ; _arg2= 3 ; _arg3= 4 ; _arg4= 5 ; _arg5= 6 ; _arg6= 7 ; _arg7= 8 ; _arg8= 9 ; _arg9= 0\n"
     ]
    },
    {
     "ename": "ValueError",
     "evalue": "unexpected '{' in field name",
     "output_type": "error",
     "traceback": [
      "\u001b[1;31m---------------------------------------------------------------------------\u001b[0m",
      "\u001b[1;31mValueError\u001b[0m                                Traceback (most recent call last)",
      "Cell \u001b[1;32mIn[14], line 1\u001b[0m\n\u001b[1;32m----> 1\u001b[0m get_ipython()\u001b[38;5;241m.\u001b[39mrun_cell_magic(\u001b[38;5;124m'\u001b[39m\u001b[38;5;124mwritetemplate\u001b[39m\u001b[38;5;124m'\u001b[39m, \u001b[38;5;124m'\u001b[39m\u001b[38;5;124m1 2 3 4 5 6 7 8 9\u001b[39m\u001b[38;5;124m'\u001b[39m, \u001b[38;5;124m'\u001b[39m\u001b[38;5;124mKEYDOWN(\u001b[39m\u001b[38;5;124m{\u001b[39m\u001b[38;5;124m_arg1)\u001b[39m\u001b[38;5;130;01m\\n\u001b[39;00m\u001b[38;5;124mWAITMS($t)\u001b[39m\u001b[38;5;130;01m\\n\u001b[39;00m\u001b[38;5;124mKEYUP(\u001b[39m\u001b[38;5;132;01m{_arg1}\u001b[39;00m\u001b[38;5;124m)\u001b[39m\u001b[38;5;130;01m\\n\u001b[39;00m\u001b[38;5;124mWAITMS($t)\u001b[39m\u001b[38;5;130;01m\\n\u001b[39;00m\u001b[38;5;124m'\u001b[39m)\n",
      "File \u001b[1;32m~\\anaconda3\\Lib\\site-packages\\IPython\\core\\interactiveshell.py:2493\u001b[0m, in \u001b[0;36mInteractiveShell.run_cell_magic\u001b[1;34m(self, magic_name, line, cell)\u001b[0m\n\u001b[0;32m   2491\u001b[0m \u001b[38;5;28;01mwith\u001b[39;00m \u001b[38;5;28mself\u001b[39m\u001b[38;5;241m.\u001b[39mbuiltin_trap:\n\u001b[0;32m   2492\u001b[0m     args \u001b[38;5;241m=\u001b[39m (magic_arg_s, cell)\n\u001b[1;32m-> 2493\u001b[0m     result \u001b[38;5;241m=\u001b[39m fn(\u001b[38;5;241m*\u001b[39margs, \u001b[38;5;241m*\u001b[39m\u001b[38;5;241m*\u001b[39mkwargs)\n\u001b[0;32m   2495\u001b[0m \u001b[38;5;66;03m# The code below prevents the output from being displayed\u001b[39;00m\n\u001b[0;32m   2496\u001b[0m \u001b[38;5;66;03m# when using magics with decorator @output_can_be_silenced\u001b[39;00m\n\u001b[0;32m   2497\u001b[0m \u001b[38;5;66;03m# when the last Python token in the expression is a ';'.\u001b[39;00m\n\u001b[0;32m   2498\u001b[0m \u001b[38;5;28;01mif\u001b[39;00m \u001b[38;5;28mgetattr\u001b[39m(fn, magic\u001b[38;5;241m.\u001b[39mMAGIC_OUTPUT_CAN_BE_SILENCED, \u001b[38;5;28;01mFalse\u001b[39;00m):\n",
      "Cell \u001b[1;32mIn[13], line 20\u001b[0m, in \u001b[0;36mwritetemplate\u001b[1;34m(line, cell)\u001b[0m\n\u001b[0;32m     18\u001b[0m \u001b[38;5;28mprint\u001b[39m(\u001b[38;5;124m'\u001b[39m\u001b[38;5;124m_arg0=\u001b[39m\u001b[38;5;124m'\u001b[39m,_arg0,\u001b[38;5;124m'\u001b[39m\u001b[38;5;124m; _arg1=\u001b[39m\u001b[38;5;124m'\u001b[39m,_arg1,\u001b[38;5;124m'\u001b[39m\u001b[38;5;124m; _arg2=\u001b[39m\u001b[38;5;124m'\u001b[39m,_arg2,\u001b[38;5;124m'\u001b[39m\u001b[38;5;124m; _arg3=\u001b[39m\u001b[38;5;124m'\u001b[39m,_arg3,\u001b[38;5;124m'\u001b[39m\u001b[38;5;124m; _arg4=\u001b[39m\u001b[38;5;124m'\u001b[39m,_arg4,\u001b[38;5;124m'\u001b[39m\u001b[38;5;124m; _arg5=\u001b[39m\u001b[38;5;124m'\u001b[39m,_arg5,\u001b[38;5;124m'\u001b[39m\u001b[38;5;124m; _arg6=\u001b[39m\u001b[38;5;124m'\u001b[39m,_arg6,\u001b[38;5;124m'\u001b[39m\u001b[38;5;124m; _arg7=\u001b[39m\u001b[38;5;124m'\u001b[39m,_arg7,\u001b[38;5;124m'\u001b[39m\u001b[38;5;124m; _arg8=\u001b[39m\u001b[38;5;124m'\u001b[39m,_arg8,\u001b[38;5;124m'\u001b[39m\u001b[38;5;124m; _arg9=\u001b[39m\u001b[38;5;124m'\u001b[39m,_arg9);\n\u001b[0;32m     19\u001b[0m \u001b[38;5;28;01mwith\u001b[39;00m \u001b[38;5;28mopen\u001b[39m(\u001b[38;5;124m'\u001b[39m\u001b[38;5;124mScript.cms\u001b[39m\u001b[38;5;124m'\u001b[39m, \u001b[38;5;124m'\u001b[39m\u001b[38;5;124ma\u001b[39m\u001b[38;5;124m'\u001b[39m) \u001b[38;5;28;01mas\u001b[39;00m f:\n\u001b[1;32m---> 20\u001b[0m     f\u001b[38;5;241m.\u001b[39mwrite(cell\u001b[38;5;241m.\u001b[39mformat(\u001b[38;5;241m*\u001b[39m\u001b[38;5;241m*\u001b[39m\u001b[38;5;28mglobals\u001b[39m()))\n\u001b[0;32m     21\u001b[0m \u001b[38;5;28mprint\u001b[39m(\u001b[38;5;124m'\u001b[39m\u001b[38;5;124m>>>\u001b[39m\u001b[38;5;124m'\u001b[39m)\n\u001b[0;32m     22\u001b[0m \u001b[38;5;28;01mwith\u001b[39;00m \u001b[38;5;28mopen\u001b[39m(\u001b[38;5;124m'\u001b[39m\u001b[38;5;124mScript.cms\u001b[39m\u001b[38;5;124m'\u001b[39m, \u001b[38;5;124m'\u001b[39m\u001b[38;5;124mr\u001b[39m\u001b[38;5;124m'\u001b[39m) \u001b[38;5;28;01mas\u001b[39;00m f: \u001b[38;5;28mprint\u001b[39m(f\u001b[38;5;241m.\u001b[39mread())\n",
      "\u001b[1;31mValueError\u001b[0m: unexpected '{' in field name"
     ]
    }
   ],
   "source": [
    "%%writetemplate 1 2 3 4 5 6 7 8 9 \n",
    "KEYDOWN({_arg1)\n",
    "WAITMS($t)\n",
    "KEYUP({_arg1})\n",
    "WAITMS($t)"
   ]
  },
  {
   "cell_type": "markdown",
   "id": "7dfef3bd",
   "metadata": {},
   "source": [
    "--------------"
   ]
  },
  {
   "cell_type": "code",
   "execution_count": 208,
   "id": "2548f3c6",
   "metadata": {},
   "outputs": [
    {
     "ename": "SyntaxError",
     "evalue": "invalid syntax (643241876.py, line 1)",
     "output_type": "error",
     "traceback": [
      "\u001b[1;36m  Cell \u001b[1;32mIn[208], line 1\u001b[1;36m\u001b[0m\n\u001b[1;33m    (false)?(1):(0)\u001b[0m\n\u001b[1;37m           ^\u001b[0m\n\u001b[1;31mSyntaxError\u001b[0m\u001b[1;31m:\u001b[0m invalid syntax\n"
     ]
    }
   ],
   "source": [
    "(false)?(1):(0)"
   ]
  },
  {
   "cell_type": "code",
   "execution_count": 12,
   "id": "8e994b89",
   "metadata": {},
   "outputs": [
    {
     "name": "stdout",
     "output_type": "stream",
     "text": [
      "Overwriting Script.cms\n"
     ]
    }
   ],
   "source": [
    "%%writefile Script.cms\n",
    "//ReWrite\n",
    "//Config\n",
    "//sleep time\n",
    "$t=75"
   ]
  },
  {
   "cell_type": "code",
   "execution_count": 114,
   "id": "cc0e4da6",
   "metadata": {},
   "outputs": [],
   "source": [
    "_KEY = \"#A\""
   ]
  },
  {
   "cell_type": "code",
   "execution_count": 123,
   "id": "729437cb",
   "metadata": {},
   "outputs": [],
   "source": [
    "%%writetemplate Script.cms\n",
    "KEYDOWN({_KEY})\n",
    "WAITMS($t)\n",
    "KEYUP({_KEY})\n",
    "WAITMS($t)"
   ]
  },
  {
   "cell_type": "code",
   "execution_count": 124,
   "id": "5c5a1601",
   "metadata": {
    "scrolled": true
   },
   "outputs": [
    {
     "name": "stdout",
     "output_type": "stream",
     "text": [
      "//ReWrite\n",
      "//Config\n",
      "//sleep time\n",
      "$t=75\n",
      "test: Script.cms\n",
      "test: Script.cms\n",
      "KEYDOWN(Script.cms)\n",
      "WAITMS($t)\n",
      "KEYUP(Script.cms)\n",
      "WAITMS($t)\n",
      "KEYDOWN(#A)\n",
      "WAITMS($t)\n",
      "KEYUP(#A)\n",
      "WAITMS($t)\n",
      "\n"
     ]
    }
   ],
   "source": [
    "with open('Script.cms', 'r') as f: print(f.read())"
   ]
  }
 ],
 "metadata": {
  "kernelspec": {
   "display_name": "Python 3 (ipykernel)",
   "language": "python",
   "name": "python3"
  },
  "language_info": {
   "codemirror_mode": {
    "name": "ipython",
    "version": 3
   },
   "file_extension": ".py",
   "mimetype": "text/x-python",
   "name": "python",
   "nbconvert_exporter": "python",
   "pygments_lexer": "ipython3",
   "version": "3.11.4"
  }
 },
 "nbformat": 4,
 "nbformat_minor": 5
}
