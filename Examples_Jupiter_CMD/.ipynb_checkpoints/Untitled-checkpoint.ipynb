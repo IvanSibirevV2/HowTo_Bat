{
 "cells": [
  {
   "cell_type": "markdown",
   "id": "813889c5",
   "metadata": {},
   "source": [
    "# Примеры магических слов %%CMD в jupiter\n",
    "В чем проблема. Есть CMD/DOS/BAT.\n",
    "Работать можно через cmd.exe консоль и через notepad++ *.bat, но только в кодировке OEM866 Кирилица.\n",
    "Есть jupiter notebook и его магические слова ... %%CMD, %%writefile ... Они работают в другой кодировке. По этому если потребуется то можно скопировать программный код и запустьть его через *.bat но полетят кодировки - по этому разбирайтесь сами. "
   ]
  },
  {
   "cell_type": "code",
   "execution_count": 5,
   "id": "92e45935",
   "metadata": {},
   "outputs": [
    {
     "name": "stdout",
     "output_type": "stream",
     "text": [
      "Microsoft Windows [Version 10.0.19045.3570]\n",
      "(c) ��௮��� �������� (Microsoft Corporation). �� �ࠢ� ���饭�.\n",
      "\n",
      "C:\\Users\\SibNout2023\\WorkPlate\\GitHubOll\\HowTo_Bat\\Examples_Jupiter_CMD>echo Привет мир\n",
      "Привет мир\n",
      "\n",
      "C:\\Users\\SibNout2023\\WorkPlate\\GitHubOll\\HowTo_Bat\\Examples_Jupiter_CMD>"
     ]
    }
   ],
   "source": [
    "%%cmd\n",
    "echo Привет мир"
   ]
  },
  {
   "cell_type": "code",
   "execution_count": 6,
   "id": "c78aaba8",
   "metadata": {},
   "outputs": [
    {
     "name": "stdout",
     "output_type": "stream",
     "text": [
      "Microsoft Windows [Version 10.0.19045.3570]\n",
      "(c) ��௮��� �������� (Microsoft Corporation). �� �ࠢ� ���饭�.\n",
      "\n",
      "C:\\Users\\SibNout2023\\WorkPlate\\GitHubOll\\HowTo_Bat\\Examples_Jupiter_CMD>@echo off\n",
      "echo Привет мир\n",
      "Привет мир\n"
     ]
    }
   ],
   "source": [
    "%%cmd\n",
    "@echo off\n",
    "echo Привет мир"
   ]
  },
  {
   "cell_type": "markdown",
   "id": "5ee5018d",
   "metadata": {},
   "source": [
    "Обычный cmd/dos/bat запускается с целевой директорией где лежит cmd.exe или notepad++. Эта большая проблема выравнивается командой \n",
    "\n",
    "cd %~dp0"
   ]
  },
  {
   "cell_type": "markdown",
   "id": "3b50463d",
   "metadata": {},
   "source": [
    "jupiter сразу из папки в поторой он лежит"
   ]
  },
  {
   "cell_type": "code",
   "execution_count": 10,
   "id": "98e22185",
   "metadata": {},
   "outputs": [
    {
     "name": "stdout",
     "output_type": "stream",
     "text": [
      "Microsoft Windows [Version 10.0.19045.3570]\n",
      "(c) ��௮��� �������� (Microsoft Corporation). �� �ࠢ� ���饭�.\n",
      "\n",
      "C:\\Users\\SibNout2023\\WorkPlate\\GitHubOll\\HowTo_Bat\\Examples_Jupiter_CMD>echo %cd%\n",
      "C:\\Users\\SibNout2023\\WorkPlate\\GitHubOll\\HowTo_Bat\\Examples_Jupiter_CMD\n",
      "\n",
      "C:\\Users\\SibNout2023\\WorkPlate\\GitHubOll\\HowTo_Bat\\Examples_Jupiter_CMD>"
     ]
    }
   ],
   "source": [
    "%%cmd\n",
    "echo %cd%"
   ]
  },
  {
   "cell_type": "markdown",
   "id": "2fb146b3",
   "metadata": {},
   "source": [
    "Классическое получение информации о себе не работает, наверно по тому что нет самого исполняемого бат по этому информацию о нем получить неможем. Делать это лучше из питона."
   ]
  },
  {
   "cell_type": "code",
   "execution_count": 15,
   "id": "36363138",
   "metadata": {},
   "outputs": [
    {
     "name": "stdout",
     "output_type": "stream",
     "text": [
      "Microsoft Windows [Version 10.0.19045.3570]\n",
      "(c) ��௮��� �������� (Microsoft Corporation). �� �ࠢ� ���饭�.\n",
      "\n",
      "C:\\Users\\SibNout2023\\WorkPlate\\GitHubOll\\HowTo_Bat\\Examples_Jupiter_CMD>echo %~0\n",
      "%~0\n",
      "\n",
      "C:\\Users\\SibNout2023\\WorkPlate\\GitHubOll\\HowTo_Bat\\Examples_Jupiter_CMD>"
     ]
    }
   ],
   "source": [
    "%%cmd\n",
    "echo %~0"
   ]
  },
  {
   "cell_type": "markdown",
   "id": "6cd6425e",
   "metadata": {},
   "source": [
    "Таймер тоже не работает"
   ]
  },
  {
   "cell_type": "code",
   "execution_count": 22,
   "id": "7bf455d7",
   "metadata": {},
   "outputs": [
    {
     "name": "stdout",
     "output_type": "stream",
     "text": [
      "Microsoft Windows [Version 10.0.19045.3570]\n",
      "(c) ��௮��� �������� (Microsoft Corporation). �� �ࠢ� ���饭�.\n",
      "\n",
      "C:\\Users\\SibNout2023\\WorkPlate\\GitHubOll\\HowTo_Bat\\Examples_Jupiter_CMD>@echo off\n",
      "TIMEOUT /T 2\n"
     ]
    },
    {
     "name": "stderr",
     "output_type": "stream",
     "text": [
      "������: ��७��ࠢ����� ����� �� �����ন������, �����⢫���� ���������� ��室 �� �����.\r\n"
     ]
    }
   ],
   "source": [
    "%%cmd\n",
    "@echo off\n",
    "TIMEOUT /T 2"
   ]
  },
  {
   "cell_type": "code",
   "execution_count": 23,
   "id": "138b94f8",
   "metadata": {},
   "outputs": [
    {
     "name": "stdout",
     "output_type": "stream",
     "text": [
      "Microsoft Windows [Version 10.0.19045.3570]\n",
      "(c) ��௮��� �������� (Microsoft Corporation). �� �ࠢ� ���饭�.\n",
      "\n",
      "C:\\Users\\SibNout2023\\WorkPlate\\GitHubOll\\HowTo_Bat\\Examples_Jupiter_CMD>@echo off\n",
      "echo Включаем русский текст\n",
      "Включаем русский текст\n",
      "chcp 1251 >nul\n",
      "echo Включаем русский текст\n",
      "Включаем русский текст\n",
      "echo.\n",
      "\n",
      "echo мы только что вывели пустую строку\n",
      "мы только что вывели пустую строку\n"
     ]
    }
   ],
   "source": [
    "%%cmd\n",
    "@echo off\n",
    "echo Включаем русский текст\n",
    "chcp 1251 >nul\n",
    "echo Включаем русский текст\n",
    "echo.\n",
    "echo мы только что вывели пустую строку"
   ]
  },
  {
   "cell_type": "code",
   "execution_count": 37,
   "id": "f5826857",
   "metadata": {},
   "outputs": [
    {
     "name": "stdout",
     "output_type": "stream",
     "text": [
      "Overwriting qwe.bat\n"
     ]
    }
   ],
   "source": [
    "%%writefile qwe.bat\n",
    "@echo off\n",
    "echo Привет мир\n",
    "echo HelloWorld\n",
    "\n",
    "TIMEOUT /T 1"
   ]
  },
  {
   "cell_type": "code",
   "execution_count": 38,
   "id": "b2f7dc6e",
   "metadata": {},
   "outputs": [
    {
     "name": "stdout",
     "output_type": "stream",
     "text": [
      "РџСЂРёРІРµС‚ РјРёСЂ\n",
      "HelloWorld\n"
     ]
    },
    {
     "name": "stderr",
     "output_type": "stream",
     "text": [
      "ОШИБКА: перенаправление ввода не поддерживается, осуществляется немедленный выход из процесса.\n"
     ]
    }
   ],
   "source": [
    "!qwe.bat"
   ]
  },
  {
   "cell_type": "code",
   "execution_count": 40,
   "id": "44affb02",
   "metadata": {},
   "outputs": [
    {
     "name": "stdout",
     "output_type": "stream",
     "text": [
      "Microsoft Windows [Version 10.0.19045.3570]\n",
      "(c) ���������� ���������� (Microsoft Corporation). ��� ����� ��������.\n",
      "\n",
      "C:\\Users\\SibNout2023\\WorkPlate\\GitHubOll\\HowTo_Bat\\Examples_Jupiter_CMD>ECHO Вывести все переменные среды\n",
      "Вывести все переменные среды\n",
      "\n",
      "C:\\Users\\SibNout2023\\WorkPlate\\GitHubOll\\HowTo_Bat\\Examples_Jupiter_CMD>set\n",
      "ALLUSERSPROFILE=C:\\ProgramData\n",
      "APPDATA=C:\\Users\\SibNout2023\\AppData\\Roaming\n",
      "CLICOLOR=1\n",
      "CLICOLOR_FORCE=1\n",
      "COMMONPROGRAMFILES=C:\\Program Files\\Common Files\n",
      "COMMONPROGRAMFILES(X86)=C:\\Program Files (x86)\\Common Files\n",
      "COMMONPROGRAMW6432=C:\\Program Files\\Common Files\n",
      "COMPUTERNAME=LAPTOP-2LECSJP2\n",
      "COMSPEC=C:\\WINDOWS\\system32\\cmd.exe\n",
      "CONDA_BAT=C:\\Users\\SibNout2023\\anaconda3\\condabin\\conda.bat\n",
      "CONDA_EXE=C:\\Users\\SibNout2023\\anaconda3\\Scripts\\conda.exe\n",
      "CONDA_SHLVL=0\n",
      "DRIVERDATA=C:\\Windows\\System32\\Drivers\\DriverData\n",
      "FORCE_COLOR=1\n",
      "FPS_BROWSER_APP_PROFILE_STRING=Internet Explorer\n",
      "FPS_BROWSER_USER_PROFILE_STRING=Default\n",
      "GIT_PAGER=cat\n",
      "HOMEDRIVE=C:\n",
      "HOMEPATH=\\Users\\SibNout2023\n",
      "LOCALAPPDATA=C:\\Users\\SibNout2023\\AppData\\Local\n",
      "LOGONSERVER=\\\\LAPTOP-2LECSJP2\n",
      "MPLBACKEND=module://matplotlib_inline.backend_inline\n",
      "NUMBER_OF_PROCESSORS=8\n",
      "ONEDRIVE=C:\\Users\\SibNout2023\\OneDrive\n",
      "OS=Windows_NT\n",
      "PAGER=cat\n",
      "PATH=C:\\Users\\SibNout2023\\anaconda3\\condabin;C:\\Users\\SibNout2023\\anaconda3;C:\\Users\\SibNout2023\\anaconda3\\Library\\mingw-w64\\bin;C:\\Users\\SibNout2023\\anaconda3\\Library\\usr\\bin;C:\\Users\\SibNout2023\\anaconda3\\Library\\bin;C:\\Users\\SibNout2023\\anaconda3\\Scripts;C:\\Program Files (x86)\\Common Files\\Oracle\\Java\\javapath;C:\\WINDOWS\\system32;C:\\WINDOWS;C:\\WINDOWS\\System32\\Wbem;C:\\WINDOWS\\System32\\WindowsPowerShell\\v1.0\\;C:\\WINDOWS\\System32\\OpenSSH\\;C:\\Program Files\\Acer ProShield\\;C:\\Program Files\\Acer ProShield\\x86;C:\\Program Files\\Intel\\WiFi\\bin\\;C:\\Program Files\\Common Files\\Intel\\WirelessCommon\\;C:\\Program Files\\Git\\cmd;C:\\Program Files (x86)\\GitExtensions\\;C:\\Program Files\\dotnet\\;C:\\Program Files (x86)\\Windows Kits\\10\\Windows Performance Toolkit\\;C:\\Program Files\\PowerShell\\7\\;C:\\Users\\SibNout2023\\AppData\\Local\\Microsoft\\WindowsApps;C:\\Users\\SibNout2023\\.dotnet\\tools\n",
      "PATHEXT=.COM;.EXE;.BAT;.CMD;.VBS;.VBE;.JS;.JSE;.WSF;.WSH;.MSC;.PY\n",
      "POWERSHELL_DISTRIBUTION_CHANNEL=MSI:Windows 10 Pro\n",
      "PROCESSOR_ARCHITECTURE=AMD64\n",
      "PROCESSOR_IDENTIFIER=Intel64 Family 6 Model 142 Stepping 11, GenuineIntel\n",
      "PROCESSOR_LEVEL=6\n",
      "PROCESSOR_REVISION=8e0b\n",
      "PROGRAMDATA=C:\\ProgramData\n",
      "PROGRAMFILES=C:\\Program Files\n",
      "PROGRAMFILES(X86)=C:\\Program Files (x86)\n",
      "PROGRAMW6432=C:\\Program Files\n",
      "PROMPT=$P$G\n",
      "PSMODULEPATH=C:\\Program Files\\WindowsPowerShell\\Modules;C:\\WINDOWS\\system32\\WindowsPowerShell\\v1.0\\Modules\n",
      "PUBLIC=C:\\Users\\Public\n",
      "SESSIONNAME=Console\n",
      "SYSTEMDRIVE=C:\n",
      "SYSTEMROOT=C:\\WINDOWS\n",
      "TEMP=C:\\Users\\SIBNOU~1\\AppData\\Local\\Temp\n",
      "TERM=xterm-color\n",
      "TMP=C:\\Users\\SIBNOU~1\\AppData\\Local\\Temp\n",
      "USERDOMAIN=LAPTOP-2LECSJP2\n",
      "USERDOMAIN_ROAMINGPROFILE=LAPTOP-2LECSJP2\n",
      "USERNAME=SibNout2023\n",
      "USERPROFILE=C:\\Users\\SibNout2023\n",
      "VBOX_MSI_INSTALL_PATH=C:\\Program Files\\Oracle\\VirtualBox\\\n",
      "WINDIR=C:\\WINDOWS\n",
      "CONDA_PREFIX=C:\\Users\\SibNout2023\\anaconda3\n",
      "PYDEVD_USE_FRAME_EVAL=NO\n",
      "JPY_INTERRUPT_EVENT=4088\n",
      "IPY_INTERRUPT_EVENT=4088\n",
      "JPY_PARENT_PID=2100\n",
      "\n",
      "C:\\Users\\SibNout2023\\WorkPlate\\GitHubOll\\HowTo_Bat\\Examples_Jupiter_CMD>"
     ]
    }
   ],
   "source": [
    "%%cmd\n",
    "ECHO Вывести все переменные среды\n",
    "set"
   ]
  },
  {
   "cell_type": "code",
   "execution_count": 54,
   "id": "fc16d6f5",
   "metadata": {},
   "outputs": [
    {
     "name": "stdout",
     "output_type": "stream",
     "text": [
      "Microsoft Windows [Version 10.0.19045.3570]\n",
      "(c) ���������� ���������� (Microsoft Corporation). ��� ����� ��������.\n",
      "\n",
      "C:\\Users\\SibNout2023\\WorkPlate\\GitHubOll\\HowTo_Bat\\Examples_Jupiter_CMD>echo off\n",
      "echo Отключение двой ного вывода тоже не особо работает\n",
      "Отключение двой ного вывода тоже не особо работает\n",
      "echo пример должен был демонстрировать локальное пространство имен\n",
      "пример должен был демонстрировать локальное пространство имен\n",
      "echo Ладно, подстановка переменных тоже не работает\n",
      "Ладно, подстановка переменных тоже не работает\n",
      "echo На счет пространства имен - тоже большая загадка\n",
      "На счет пространства имен - тоже большая загадка\n",
      "set flag=true\n",
      "echo 1 flag=%flag%\n",
      "1 flag=true\n",
      "setlocal\n",
      "   set flagg=%flag%\n",
      "   echo setlocal\n",
      "setlocal\n",
      "   set flag=false\n",
      "   echo flag=%flag%\n",
      "flag=false\n",
      "   echo flagg=%flagg%\n",
      "flagg=true\n",
      "   echo endlocal\n",
      "endlocal\n",
      "endlocal\n",
      "echo flag=%flag%\n",
      "flag=false\n",
      "echo Привет Мир\n",
      "Привет Мир\n"
     ]
    }
   ],
   "source": [
    "%%cmd\n",
    "echo off\n",
    "echo Отключение двой ного вывода тоже не особо работает\n",
    "echo пример должен был демонстрировать локальное пространство имен\n",
    "echo Ладно, подстановка переменных тоже не работает\n",
    "echo На счет пространства имен - тоже большая загадка\n",
    "set flag=true\n",
    "echo 1 flag=%flag%\n",
    "setlocal\n",
    "   set flagg=%flag%\n",
    "   echo setlocal\n",
    "   set flag=false\n",
    "   echo flag=%flag%\n",
    "   echo flagg=%flagg%\n",
    "   echo endlocal\n",
    "endlocal\n",
    "echo flag=%flag%\n",
    "echo Привет Мир"
   ]
  },
  {
   "cell_type": "markdown",
   "id": "5947123c",
   "metadata": {},
   "source": [
    "Делаем вывод\n",
    "Оно пригодно для подпила но никак для полноценных текстов и писанины"
   ]
  },
  {
   "cell_type": "code",
   "execution_count": null,
   "id": "d88ffbef",
   "metadata": {},
   "outputs": [],
   "source": []
  }
 ],
 "metadata": {
  "kernelspec": {
   "display_name": "Python 3 (ipykernel)",
   "language": "python",
   "name": "python3"
  },
  "language_info": {
   "codemirror_mode": {
    "name": "ipython",
    "version": 3
   },
   "file_extension": ".py",
   "mimetype": "text/x-python",
   "name": "python",
   "nbconvert_exporter": "python",
   "pygments_lexer": "ipython3",
   "version": "3.11.4"
  }
 },
 "nbformat": 4,
 "nbformat_minor": 5
}
